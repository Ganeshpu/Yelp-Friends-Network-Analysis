{
 "cells": [
  {
   "cell_type": "code",
   "execution_count": null,
   "metadata": {},
   "outputs": [],
   "source": [
    "import pandas as pd\n",
    "import numpy as np\n",
    "import igraph as ig\n",
    "import matplotlib.pyplot as plt\n",
    "import seaborn as sb"
   ]
  },
  {
   "cell_type": "code",
   "execution_count": null,
   "metadata": {},
   "outputs": [],
   "source": [
    "# read the csv file which has list of user and his/her friends and drop all null values\n",
    "el= pd.read_csv('')\n",
    "el.dropna(inplace=True)"
   ]
  },
  {
   "cell_type": "code",
   "execution_count": null,
   "metadata": {},
   "outputs": [],
   "source": [
    "# Drop the columns which are not required\n",
    "el.drop(['Unnamed: 0'],inplace=True, axis=1)"
   ]
  },
  {
   "cell_type": "code",
   "execution_count": null,
   "metadata": {},
   "outputs": [],
   "source": [
    "# check number of unique users and friends in the list\n",
    "print('Number of Unique users in the list: {}'.format(el['user_id'].nunique()))\n",
    "print('Number of Unique friends in the list: {}'.format(el['friend_id'].nunique()))"
   ]
  },
  {
   "cell_type": "markdown",
   "metadata": {},
   "source": [
    "Below is the code to get all the vertices and remove duplicates and create a list"
   ]
  },
  {
   "cell_type": "code",
   "execution_count": null,
   "metadata": {},
   "outputs": [],
   "source": [
    "# Considering all the users and friends as vertices in our friend network graph.\n",
    "list_of_vertices=el.values.T.flatten()"
   ]
  },
  {
   "cell_type": "markdown",
   "metadata": {},
   "source": [
    "Below Code is to get unique vertices in the network"
   ]
  },
  {
   "cell_type": "code",
   "execution_count": null,
   "metadata": {},
   "outputs": [],
   "source": [
    "# Filtering out the duplicate vertices and only keeping the unique ones\n",
    "list_of_vertices=list(dict.fromkeys(list_of_vertices))"
   ]
  },
  {
   "cell_type": "markdown",
   "metadata": {},
   "source": [
    "Below converting all the edgelist into a list of tuples"
   ]
  },
  {
   "cell_type": "code",
   "execution_count": null,
   "metadata": {},
   "outputs": [],
   "source": [
    "#Creating a edgelist where each edge represents friendship between an user and a friend. Creating a tuple containing\n",
    "#both user and friend\n",
    "Edgelist= [tuple(x) for x in el.values]"
   ]
  },
  {
   "cell_type": "markdown",
   "metadata": {},
   "source": [
    "Creating a Graph object using EdgeList and vertices. Later will calculate Network metrices using the same"
   ]
  },
  {
   "cell_type": "code",
   "execution_count": null,
   "metadata": {},
   "outputs": [],
   "source": [
    "#Creating a graph object and initializing it with the vertices and edges created above\n",
    "\n",
    "g = ig.Graph(directed=True)\n",
    "g.add_vertices(list_of_vertices)\n",
    "g.add_edges(Edgelist)"
   ]
  },
  {
   "cell_type": "code",
   "execution_count": null,
   "metadata": {},
   "outputs": [],
   "source": [
    "# Calculate betweeness centrality for every vetrex in the network graph created above\n",
    "vertex_betweeness=g.betweenness()"
   ]
  },
  {
   "cell_type": "code",
   "execution_count": null,
   "metadata": {},
   "outputs": [],
   "source": [
    "# Calculate degree centrality for every vetrex in the network graph\n",
    "vertex_degree=g.degree()"
   ]
  },
  {
   "cell_type": "code",
   "execution_count": null,
   "metadata": {},
   "outputs": [],
   "source": [
    "# Calculate Eigenvector centrality for every vetrex in the network graph\n",
    "vertex_eigenvector=g.eigenvector_centrality(directed=False)"
   ]
  },
  {
   "cell_type": "code",
   "execution_count": null,
   "metadata": {},
   "outputs": [],
   "source": [
    "# calculating density of the whole graph created. Higher the density well connected the graph is.\n",
    "g.density()"
   ]
  },
  {
   "cell_type": "code",
   "execution_count": null,
   "metadata": {},
   "outputs": [],
   "source": [
    "vertices=[]"
   ]
  },
  {
   "cell_type": "code",
   "execution_count": null,
   "metadata": {},
   "outputs": [],
   "source": [
    "vertices=g.vs['name']"
   ]
  },
  {
   "cell_type": "code",
   "execution_count": null,
   "metadata": {},
   "outputs": [],
   "source": [
    "# Create a dataframe with all the calculated metrices along with the vertices\n",
    "Final_DF_With_NetworkMetrices=pd.DataFrame(np.column_stack([vertices,vertex_degree,vertex_betweeness,vertex_eigenvector]), \n",
    "                               columns=['vertex', 'degree', 'betweeness','eigenvector'])"
   ]
  },
  {
   "cell_type": "code",
   "execution_count": null,
   "metadata": {},
   "outputs": [],
   "source": [
    "#Export the above created dataframe into a csv file\n",
    "Final_DF_With_NetworkMetrices.to_csv('/Users/ganesh/Downloads/Studies/Social Network Analysis/drive-download-20190312T010621Z-001/filtered_newidea_network_metrices.csv')"
   ]
  }
 ],
 "metadata": {
  "kernelspec": {
   "display_name": "Python 3",
   "language": "python",
   "name": "python3"
  },
  "language_info": {
   "codemirror_mode": {
    "name": "ipython",
    "version": 3
   },
   "file_extension": ".py",
   "mimetype": "text/x-python",
   "name": "python",
   "nbconvert_exporter": "python",
   "pygments_lexer": "ipython3",
   "version": "3.7.1"
  }
 },
 "nbformat": 4,
 "nbformat_minor": 2
}
